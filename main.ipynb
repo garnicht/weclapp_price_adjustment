{
 "cells": [
  {
   "cell_type": "code",
   "execution_count": 13,
   "metadata": {},
   "outputs": [],
   "source": [
    "from weclapp_api import get_recent_articles, get_old_articles\n",
    "import os\n",
    "import pandas as pd\n",
    "import requests"
   ]
  },
  {
   "cell_type": "code",
   "execution_count": 34,
   "metadata": {},
   "outputs": [],
   "source": [
    "def get_all_articles():\n",
    "    url = \"https://degridstudio.weclapp.com/webapp/api/v1/article?pageSize=1000&articleType-eq=STORABLE&active-eq=True\"\n",
    "    token = os.getenv(\"weclapp_token\")\n",
    "    headers = {\"AuthenticationToken\" : token,\n",
    "            \"Content-Type\" : \"application/json\"}\n",
    "    re = requests.get(url=url, headers=headers)\n",
    "    return re"
   ]
  },
  {
   "cell_type": "code",
   "execution_count": 50,
   "metadata": {},
   "outputs": [],
   "source": [
    "def get_article_prices():\n",
    "    url = \"https://degridstudio.weclapp.com/webapp/api/v1/articlePrice?pageSize=10000\"\n",
    "    token = os.getenv(\"weclapp_token\")\n",
    "    headers = {\"AuthenticationToken\" : token,\n",
    "            \"Content-Type\" : \"application/json\"}\n",
    "    re = requests.get(url=url, headers=headers)\n",
    "    return re"
   ]
  },
  {
   "cell_type": "code",
   "execution_count": 53,
   "metadata": {},
   "outputs": [],
   "source": [
    "re = get_article_prices()\n"
   ]
  },
  {
   "cell_type": "code",
   "execution_count": null,
   "metadata": {},
   "outputs": [],
   "source": [
    "re.headers"
   ]
  },
  {
   "cell_type": "code",
   "execution_count": 39,
   "metadata": {},
   "outputs": [],
   "source": [
    "pd.set_option('display.max_columns', None)"
   ]
  },
  {
   "cell_type": "code",
   "execution_count": null,
   "metadata": {},
   "outputs": [],
   "source": [
    "# get articlePrices\n",
    "re = get_all_articles()\n",
    "re = re.json()\n",
    "df = pd.DataFrame(re[\"result\"])\n",
    "df[[\"articleNumber\",\"articlePrices\"]]"
   ]
  },
  {
   "cell_type": "code",
   "execution_count": null,
   "metadata": {},
   "outputs": [],
   "source": [
    "re"
   ]
  },
  {
   "cell_type": "code",
   "execution_count": null,
   "metadata": {},
   "outputs": [],
   "source": [
    "articlePrice"
   ]
  }
 ],
 "metadata": {
  "kernelspec": {
   "display_name": "weclapp_pricing_env",
   "language": "python",
   "name": "python3"
  },
  "language_info": {
   "codemirror_mode": {
    "name": "ipython",
    "version": 3
   },
   "file_extension": ".py",
   "mimetype": "text/x-python",
   "name": "python",
   "nbconvert_exporter": "python",
   "pygments_lexer": "ipython3",
   "version": "3.12.7"
  }
 },
 "nbformat": 4,
 "nbformat_minor": 2
}
