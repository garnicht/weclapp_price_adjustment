{
 "cells": [
  {
   "cell_type": "code",
   "execution_count": null,
   "metadata": {},
   "outputs": [],
   "source": [
    "from weclapp_api import get_recent_articles, get_old_articles\n",
    "import os\n",
    "import pandas as pd\n",
    "import requests"
   ]
  },
  {
   "cell_type": "code",
   "execution_count": null,
   "metadata": {},
   "outputs": [],
   "source": [
    "url = \"https://degridstudio.weclapp.com/webapp/api/v1/articleSupplySource?articleNumber-eq=leon_pricing_test\"\n",
    "token = os.getenv(\"weclapp_token\")\n",
    "headers = {\"AuthenticationToken\" : token,\n",
    "          \"Content-Type\" : \"application/json\"}\n",
    "\n",
    "re = requests.get(url=url, headers=headers)\n",
    "re = re.json()[\"result\"]"
   ]
  },
  {
   "cell_type": "code",
   "execution_count": null,
   "metadata": {},
   "outputs": [],
   "source": [
    "re"
   ]
  },
  {
   "cell_type": "code",
   "execution_count": null,
   "metadata": {},
   "outputs": [],
   "source": [
    "content = {\"articlePrices\":{\"id\":\"865865\",\n",
    "                            \"price\":\"34\"}}"
   ]
  },
  {
   "cell_type": "code",
   "execution_count": null,
   "metadata": {},
   "outputs": [],
   "source": [
    "re"
   ]
  },
  {
   "cell_type": "code",
   "execution_count": null,
   "metadata": {},
   "outputs": [],
   "source": [
    "def get_all_prices():\n",
    "    \n",
    "    page = 1\n",
    "    df_all = pd.DataFrame()\n",
    "    \n",
    "    while True:\n",
    "        url = f\"https://degridstudio.weclapp.com/webapp/api/v1/articlePrice?page={page}&pageSize=1000\"\n",
    "        token = os.getenv(\"weclapp_token\")\n",
    "        headers = {\"AuthenticationToken\" : token,\n",
    "                \"Content-Type\" : \"application/json\"}\n",
    "        re = requests.get(url=url, headers=headers)\n",
    "        re = re.json()[\"result\"]\n",
    "        \n",
    "        if not re:\n",
    "            print(f\"Insgesamt {page-1} pages\")\n",
    "            break\n",
    "\n",
    "        df = pd.DataFrame(re)\n",
    "        df_all = pd.concat([df_all, df], ignore_index=True)\n",
    "\n",
    "        page += 1\n",
    "        \n",
    "\n",
    "    return df_all"
   ]
  },
  {
   "cell_type": "code",
   "execution_count": null,
   "metadata": {},
   "outputs": [],
   "source": [
    "def get_all_articles():\n",
    "    \n",
    "    page = 1\n",
    "    df_all = pd.DataFrame()\n",
    "    \n",
    "    while True:\n",
    "        url = f\"https://degridstudio.weclapp.com/webapp/api/v1/article?page={page}&pageSize=1000\" #&articleType-eq=STORABLE&active-eq=True to filter basic articles\n",
    "        token = os.getenv(\"weclapp_token\")\n",
    "        headers = {\"AuthenticationToken\" : token,\n",
    "                \"Content-Type\" : \"application/json\"}\n",
    "        re = requests.get(url=url, headers=headers)\n",
    "        re = re.json()[\"result\"]\n",
    "\n",
    "        if not re:\n",
    "            print(f\"Insgesamt {page-1} pages\")\n",
    "            break\n",
    "\n",
    "        df = pd.DataFrame(re)\n",
    "        df_all = pd.concat([df_all, df], ignore_index=True)\n",
    "\n",
    "        page +=1\n",
    "        \n",
    "    return df_all"
   ]
  },
  {
   "cell_type": "code",
   "execution_count": null,
   "metadata": {},
   "outputs": [],
   "source": [
    "def get_all_supply_sources():\n",
    "    \n",
    "    page = 1\n",
    "    df_all = pd.DataFrame()\n",
    "    \n",
    "    while True:\n",
    "        url = f\"https://degridstudio.weclapp.com/webapp/api/v1/articleSupplySource?page={page}&pageSize=1000\"\n",
    "        token = os.getenv(\"weclapp_token\")\n",
    "        headers = {\"AuthenticationToken\" : token,\n",
    "                \"Content-Type\" : \"application/json\"}\n",
    "        re = requests.get(url=url, headers=headers)\n",
    "        re = re.json()[\"result\"]\n",
    "        \n",
    "        if not re:\n",
    "            print(f\"Insgesamt {page-1} pages\")\n",
    "            break\n",
    "\n",
    "        df = pd.DataFrame(re)\n",
    "        df_all = pd.concat([df_all, df], ignore_index=True)\n",
    "\n",
    "        page += 1\n",
    "\n",
    "    return df_all"
   ]
  },
  {
   "cell_type": "code",
   "execution_count": null,
   "metadata": {},
   "outputs": [],
   "source": [
    "def patch_supply_source():\n",
    "    id = 865746\n",
    "    url = f\"https://degridstudio.weclapp.com/webapp/api/v1/articleSupplySource/id/{id}?ignoreMissingProperties=true\"\n",
    "    token = os.getenv(\"weclapp_token\")\n",
    "    headers = {\"AuthenticationToken\" : token,\n",
    "              \"Content-Type\" : \"application/json\"}\n",
    "    content = {\"articlePrices\":[{\"id\":\"865865\",\n",
    "                                \"price\":\"34\"}]}\n",
    "    re = requests.put(url=url, headers=headers,json=content)\n",
    "    return re"
   ]
  },
  {
   "cell_type": "code",
   "execution_count": null,
   "metadata": {},
   "outputs": [],
   "source": [
    "re = patch_supply_source()"
   ]
  },
  {
   "cell_type": "code",
   "execution_count": null,
   "metadata": {},
   "outputs": [],
   "source": [
    "re"
   ]
  },
  {
   "cell_type": "code",
   "execution_count": null,
   "metadata": {},
   "outputs": [],
   "source": []
  },
  {
   "cell_type": "code",
   "execution_count": null,
   "metadata": {},
   "outputs": [],
   "source": [
    "supply_sources_df = get_all_supply_sources()"
   ]
  },
  {
   "cell_type": "code",
   "execution_count": null,
   "metadata": {},
   "outputs": [],
   "source": [
    "supply_sources_df"
   ]
  },
  {
   "cell_type": "code",
   "execution_count": null,
   "metadata": {},
   "outputs": [],
   "source": [
    "df_exploded = supply_sources_df.explode(\"articlePrices\").reset_index(drop=True)\n",
    "df_exploded"
   ]
  },
  {
   "cell_type": "code",
   "execution_count": null,
   "metadata": {},
   "outputs": [],
   "source": [
    "pd.json_normalize(df_exploded['articlePrices'], sep=\"_\", record_prefix=\"article_prices\")"
   ]
  },
  {
   "cell_type": "code",
   "execution_count": null,
   "metadata": {},
   "outputs": [],
   "source": [
    "articlePrices_df = pd.json_normalize(df_exploded['articlePrices'],record_prefix=\"article_prices_\")\n",
    "df_exploded = df_exploded.drop(columns=\"articlePrices\").join(articlePrices_df)\n",
    "df_exploded"
   ]
  },
  {
   "cell_type": "code",
   "execution_count": null,
   "metadata": {},
   "outputs": [],
   "source": [
    "supply_testartikel = supply_df.query(\"articleNumber == 'leon_pricing_test'\")\n",
    "supply_testartikel.iloc[0].to_dict()"
   ]
  },
  {
   "cell_type": "code",
   "execution_count": null,
   "metadata": {},
   "outputs": [],
   "source": [
    "id = \"865746\"\n",
    "url = f\"https://degridstudio.weclapp.com/webapp/api/v1/articleSupplySource/id/{id}\"\n",
    "token = os.getenv(\"weclapp_token\")\n",
    "headers = {\"AuthenticationToken\" : token,\n",
    "           \"Content-Type\" : \"application/json\"}\n",
    "\n",
    "content = {'id': '865746',\n",
    "            'version': '6',\n",
    "            'articleNumber': 'leon_pricing_test',\n",
    "            'articlePrices': [{'id': '865865',\n",
    "                'version': '0',\n",
    "                'createdDate': 1731416180218,\n",
    "                'currencyId': '253',\n",
    "                'currencyName': 'EUR',\n",
    "                'lastModifiedByUserId': '746504',\n",
    "                'lastModifiedDate': 1731416180218,\n",
    "                'positionNumber': 3,\n",
    "                'price': '75',\n",
    "                'priceScaleType': 'SCALE_FROM',\n",
    "                'priceScaleValue': '0',\n",
    "                'reductionAdditions': [],\n",
    "                'startDate': 1731538800000},\n",
    "            {'id': '865788',\n",
    "                'version': '2',\n",
    "                'createdDate': 1731414736574,\n",
    "                'currencyId': '253',\n",
    "                'currencyName': 'EUR',\n",
    "                'endDate': 1731538799000,\n",
    "                'lastModifiedByUserId': '746504',\n",
    "                'lastModifiedDate': 1731416180224,\n",
    "                'positionNumber': 2,\n",
    "                'price': '60',\n",
    "                'priceScaleType': 'SCALE_FROM',\n",
    "                'priceScaleValue': '0',\n",
    "                'reductionAdditions': [],\n",
    "                'startDate': 1731452400000},\n",
    "            {'id': '865751',\n",
    "                'version': '1',\n",
    "                'createdDate': 1731406433672,\n",
    "                'currencyId': '253',\n",
    "                'currencyName': 'EUR',\n",
    "                'endDate': 1731452399000,\n",
    "                'lastModifiedByUserId': '746504',\n",
    "                'lastModifiedDate': 1731414736578,\n",
    "                'positionNumber': 1,\n",
    "                'price': '50',\n",
    "                'priceScaleType': 'SCALE_FROM',\n",
    "                'priceScaleValue': '0',\n",
    "                'reductionAdditions': []}],\n",
    "            'createdDate': 1731406427938,\n",
    "            'customAttributes': [],\n",
    "            'dropshippingPossible': False,\n",
    "            'lastModifiedDate': 1731416180224,\n",
    "            'name': '123',\n",
    "            'supplierId': '2712',\n",
    "            'supplierNumber': '70000',\n",
    "            'taxRateType': 'STANDARD',\n",
    "            'unitId': '2068',\n",
    "            'unitName': 'Stk.'\n",
    "  }\n",
    "\n",
    "re = requests.put(url=url, headers=headers, json=content)\n",
    "re"
   ]
  },
  {
   "cell_type": "code",
   "execution_count": null,
   "metadata": {},
   "outputs": [],
   "source": [
    "re.text"
   ]
  },
  {
   "cell_type": "code",
   "execution_count": null,
   "metadata": {},
   "outputs": [],
   "source": [
    "supply_df_testartikel = supply_df.query(\"articleNumber == 'leon_pricing_test'\")"
   ]
  },
  {
   "cell_type": "code",
   "execution_count": null,
   "metadata": {},
   "outputs": [],
   "source": [
    "for i in supply_df_testartikel[\"articlePrices\"]:\n",
    "    print(i)"
   ]
  },
  {
   "cell_type": "code",
   "execution_count": null,
   "metadata": {},
   "outputs": [],
   "source": [
    "df = get_all_articles()\n",
    "testartikel_df = df.query(\"articleNumber == 'leon_pricing_test'\")\n",
    "testartikel_df = testartikel_df[[\"id\", \"articleNumber\", \"articlePrices\", \"supplySources\"]]\n",
    "testartikel_df"
   ]
  },
  {
   "cell_type": "code",
   "execution_count": null,
   "metadata": {},
   "outputs": [],
   "source": [
    "for i in testartikel_df[\"articlePrices\"]:\n",
    "    print(i)"
   ]
  },
  {
   "cell_type": "code",
   "execution_count": null,
   "metadata": {},
   "outputs": [],
   "source": [
    "pd.set_option('display.max_columns', None)"
   ]
  },
  {
   "cell_type": "code",
   "execution_count": null,
   "metadata": {},
   "outputs": [],
   "source": [
    "re = get_supply_source()"
   ]
  },
  {
   "cell_type": "code",
   "execution_count": null,
   "metadata": {},
   "outputs": [],
   "source": [
    "re"
   ]
  },
  {
   "cell_type": "code",
   "execution_count": null,
   "metadata": {},
   "outputs": [],
   "source": [
    "# Beispiel: Originaldaten mit verschachtelten Strukturen\n",
    "data = [\n",
    "    {\n",
    "        \"id\": 1,\n",
    "        \"details\": [{\"preis\": 10.99, \"währung\": \"EUR\"}, {\"preis\": 15.49, \"währung\": \"USD\"}],\n",
    "        \"produkt\": \"A\"\n",
    "    },\n",
    "    {\n",
    "        \"id\": 2,\n",
    "        \"details\": [{\"preis\": 20.99, \"währung\": \"EUR\"}],\n",
    "        \"produkt\": \"B\"\n",
    "    }\n",
    "]"
   ]
  },
  {
   "cell_type": "code",
   "execution_count": null,
   "metadata": {},
   "outputs": [],
   "source": [
    "df = pd.json_normalize(data, \"details\", [\"id\",\"produkt\"], record_prefix=\"details_\")"
   ]
  },
  {
   "cell_type": "code",
   "execution_count": null,
   "metadata": {},
   "outputs": [],
   "source": [
    "df"
   ]
  },
  {
   "cell_type": "code",
   "execution_count": null,
   "metadata": {},
   "outputs": [],
   "source": [
    "df.to_dict()"
   ]
  },
  {
   "cell_type": "code",
   "execution_count": null,
   "metadata": {},
   "outputs": [],
   "source": []
  }
 ],
 "metadata": {
  "kernelspec": {
   "display_name": "weclapp_pricing_env",
   "language": "python",
   "name": "python3"
  },
  "language_info": {
   "codemirror_mode": {
    "name": "ipython",
    "version": 3
   },
   "file_extension": ".py",
   "mimetype": "text/x-python",
   "name": "python",
   "nbconvert_exporter": "python",
   "pygments_lexer": "ipython3",
   "version": "3.12.7"
  }
 },
 "nbformat": 4,
 "nbformat_minor": 2
}
